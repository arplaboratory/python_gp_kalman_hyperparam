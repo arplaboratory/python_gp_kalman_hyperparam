{
 "cells": [
  {
   "cell_type": "code",
   "execution_count": 1,
   "id": "rational-peter",
   "metadata": {},
   "outputs": [],
   "source": [
    "import math\n",
    "import torch\n",
    "from matplotlib import pyplot as plt\n",
    "import numpy as np;\n",
    "import scipy.io\n",
    "import warnings\n",
    "warnings.filterwarnings('ignore')\n",
    "from scipy.linalg import expm\n",
    "from pssgp.kernels import RBF\n",
    "from pssgp.model import StateSpaceGP\n",
    "import tensorflow as tf\n",
    "import yaml\n",
    "import gpytorch\n",
    "import time\n",
    "from scipy.spatial.transform import Rotation as R"
   ]
  },
  {
   "cell_type": "markdown",
   "id": "genetic-edinburgh",
   "metadata": {},
   "source": [
    "# Load a Dataset"
   ]
  },
  {
   "cell_type": "code",
   "execution_count": 2,
   "id": "mineral-monthly",
   "metadata": {},
   "outputs": [
    {
     "name": "stdout",
     "output_type": "stream",
     "text": [
      "Total no. of rows: 20030\n",
      "['state_in', 'state_ref', 'error', 'input_in', 'state_out', 'state_pred', 'timestamp', 'dt']\n"
     ]
    }
   ],
   "source": [
    "import csv\n",
    "# reading csv file\n",
    "filename = 'drag_sim.csv'\n",
    "fields = []\n",
    "rows = []\n",
    "with open(filename, 'r') as csvfile:\n",
    "    # creating a csv reader object\n",
    "    csvreader = csv.reader(csvfile)\n",
    "      \n",
    "    # extracting field names through first row\n",
    "    fields = next(csvreader)\n",
    "  \n",
    "    # extracting each data row one by one\n",
    "    for row in csvreader:\n",
    "        rows.append(row)\n",
    "  \n",
    "    # get total number of rows\n",
    "    print(\"Total no. of rows: %d\"%(csvreader.line_num))\n",
    "print(fields)"
   ]
  },
  {
   "cell_type": "code",
   "execution_count": null,
   "id": "genetic-virginia",
   "metadata": {},
   "outputs": [],
   "source": []
  },
  {
   "cell_type": "code",
   "execution_count": 3,
   "id": "loaded-ghost",
   "metadata": {},
   "outputs": [
    {
     "name": "stdout",
     "output_type": "stream",
     "text": [
      "19997\n",
      "Percet Outliers 0.0015976833591292428\n"
     ]
    }
   ],
   "source": [
    "v_world_in = np.zeros((csvreader.line_num-1,3));\n",
    "v_body_in = np.zeros((csvreader.line_num-1,3));\n",
    "acc_body_err = np.zeros((csvreader.line_num-1,3));\n",
    "dt = rows[1][8]\n",
    "rot_wb_in = np.zeros((csvreader.line_num-1,3,3));\n",
    "rot_in_check = [1,0,0,0];\n",
    "rot_pred_check = [1,0,0,0];\n",
    "rot_out_check = [1,0,0,0];\n",
    "count =0\n",
    "for i in range(csvreader.line_num-1):\n",
    "    state_in = rows[i][1][1:-1]\n",
    "    state_pred = rows[i][6][1:-1]\n",
    "    state_out = rows[i][5][1:-1]\n",
    "    v_world_in[i] = list(map(float, state_in.split(',')))[7:10]\n",
    "    rot_in = list(map(float, state_in.split(',')))[3:7]\n",
    "    v_world_out = list(map(float, state_out.split(',')))[7:10]\n",
    "    rot_out = list(map(float, state_out.split(',')))[3:7]\n",
    "    v_world_pred = list(map(float, state_pred.split(',')))[7:10]\n",
    "    rot_pred = list(map(float, state_pred.split(',')))[3:7]\n",
    "    #Convert to scalar last format\n",
    "    for j in range(4):\n",
    "        rot_in_check[j] = rot_in[(j+1)%4]\n",
    "        rot_pred_check[j] = rot_pred[(j+1)%4]\n",
    "        rot_out_check[j] = rot_out[(j+1)%4]\n",
    "\n",
    "    #Input\n",
    "    rot_wb_in[i] = np.array(R.from_quat(rot_in_check).as_matrix()).T\n",
    "    v_body_in[i] = np.matmul(rot_wb_in[i],v_world_in[i])\n",
    "    #prediction\n",
    "    rot_wb_pred = np.array(R.from_quat(rot_pred_check).as_matrix()).T\n",
    "    v_body_pred = np.matmul(rot_wb_pred,np.array(v_world_pred))\n",
    "    #Output\n",
    "    rot_wb_out = np.array(R.from_quat(rot_out_check).as_matrix()).T\n",
    "    v_body_out = np.matmul(rot_wb_out ,np.array(v_world_out))\n",
    "    acc_err = (v_body_out-v_body_pred)/0.01700000000000001\n",
    "    if np.sum(abs(acc_err))<150:\n",
    "        v_body_in[count] = np.matmul(rot_wb_in[i],v_world_in[i])\n",
    "        acc_body_err[count] =acc_err\n",
    "        count+=1\n",
    "print(count)\n",
    "num_data = count\n",
    "print(\"Percet Outliers\" , 1-count/(csvreader.line_num-1))"
   ]
  },
  {
   "cell_type": "markdown",
   "id": "acute-genesis",
   "metadata": {},
   "source": [
    "# Plot Drag"
   ]
  },
  {
   "cell_type": "code",
   "execution_count": 4,
   "id": "confidential-canyon",
   "metadata": {},
   "outputs": [
    {
     "data": {
      "text/plain": [
       "<matplotlib.collections.PathCollection at 0x2618b5f1548>"
      ]
     },
     "execution_count": 4,
     "metadata": {},
     "output_type": "execute_result"
    },
    {
     "data": {
      "image/png": "[encoded data removed]",
      "text/plain": [
       "<Figure size 432x288 with 1 Axes>"
      ]
     },
     "metadata": {
      "needs_background": "light"
     },
     "output_type": "display_data"
    },
    {
     "data": {
      "image/png": "[encoded data removed]",
      "text/plain": [
       "<Figure size 432x288 with 1 Axes>"
      ]
     },
     "metadata": {
      "needs_background": "light"
     },
     "output_type": "display_data"
    },
    {
     "data": {
      "image/png": "[encoded data removed]",
      "text/plain": [
       "<Figure size 432x288 with 1 Axes>"
      ]
     },
     "metadata": {
      "needs_background": "light"
     },
     "output_type": "display_data"
    }
   ],
   "source": [
    "plt.figure()\n",
    "plt.scatter(v_body_in[:count,0],acc_body_err[:count,0]) #Noise around 1\n",
    "plt.figure()\n",
    "plt.scatter(v_body_in[:count,1],acc_body_err[:count,1]) #noise around 2\n",
    "plt.figure()\n",
    "plt.scatter(v_body_in[:count,2],acc_body_err[:count,2]) #Noise around 5\n"
   ]
  },
  {
   "cell_type": "code",
   "execution_count": 42,
   "id": "studied-bleeding",
   "metadata": {},
   "outputs": [
    {
     "name": "stdout",
     "output_type": "stream",
     "text": [
      "torch.Size([19997])\n",
      "torch.Size([19997])\n"
     ]
    }
   ],
   "source": [
    "##Data processing\n",
    "#D = scipy.io.loadmat(\"airline.mat\")\n",
    "xtrain = v_body_in[:num_data,0]/20\n",
    "y = acc_body_err[:num_data,0]\n",
    "#xtrain = D[\"xtrain\"]\n",
    "#y = D[\"ytrain\"]\n",
    "meanY = np.array(y).sum()/len(y);\n",
    "std = np.array(y).std();\n",
    "ytrain = (y-meanY)/std #Divide by standard deviation\n",
    "#data = (xtrain.astype(float),ytrain.astype(float))\n",
    "xtrain = torch.tensor(xtrain).float().flatten()\n",
    "ytrain = torch.tensor(ytrain).float().flatten()\n",
    "idx = np.sort(np.random.randint(count,size=5000))\n",
    "#xtrain = xtrain[idx]\n",
    "#ytrain = ytrain[idx]\n",
    "idx2 = np.argsort(xtrain)\n",
    "xtrain = xtrain[idx2]\n",
    "ytrain = ytrain[idx2]\n",
    "print(xtrain.shape)\n",
    "print(ytrain.shape)"
   ]
  },
  {
   "cell_type": "markdown",
   "id": "hairy-charity",
   "metadata": {},
   "source": [
    "# Learn Hyperparameters"
   ]
  },
  {
   "cell_type": "code",
   "execution_count": 43,
   "id": "fossil-divorce",
   "metadata": {},
   "outputs": [],
   "source": [
    "# GP Model Kernel is a parameter.\n",
    "class GPModel(gpytorch.models.ExactGP):\n",
    "    def __init__(self,train_x, train_y, likelihood, kernel):\n",
    "        super(GPModel, self).__init__(train_x, train_y, likelihood)\n",
    "        self.mean_module = gpytorch.means.ConstantMean()\n",
    "        self.covar_module = kernel; ##Kernel function\n",
    "\n",
    "    def forward(self, x):\n",
    "        mean_x = self.mean_module(x)\n",
    "        covar_x = self.covar_module(x)\n",
    "        return gpytorch.distributions.MultivariateNormal(mean_x, covar_x)\n",
    "    \n",
    "##Function that plots the kernel confidence region + sample functions\n",
    "def plotFpred(f_preds, xtrain,ytrain,xtest,meanY, std, KernelStr):\n",
    "    with torch.no_grad():\n",
    "        # Initialize plot\n",
    "        f, ax = plt.subplots(1, 2, figsize=(9, 4))\n",
    "        # Get upper and lower confidence bounds\n",
    "        lower, upper = f_preds.confidence_region()\n",
    "        lower = lower*std +meanY\n",
    "        upper = upper*std +meanY\n",
    "        ytrain = ytrain*std + meanY\n",
    "        # Plot training data as black stars\n",
    "        ax[0].plot(xtrain, ytrain, 'k*')\n",
    "        # Plot predictive means as blue line\n",
    "        ax[0].plot(xtest, f_preds.mean*std+meanY, 'b')\n",
    "        # Shade between the lower and upper confidence bounds\n",
    "        ax[0].fill_between(xtest.numpy(), lower.numpy(),\n",
    "                           upper.numpy(), alpha=0.5)\n",
    "        ax[0].legend(['Observed Data', 'Mean', 'Confidence'])\n",
    "        ax[0].set_title(KernelStr + 'Confidence')\n",
    "        ax[1].plot(xtrain, ytrain, 'k*')\n",
    "        # Plot predictive means as blue line\n",
    "        f_samples = f_preds.rsample(sample_shape = torch.Size([2]))\n",
    "        for samples in f_samples.detach():\n",
    "            ax[1].plot(xtest, samples*std+meanY)\n",
    "        ax[1].set_title(KernelStr + 'Sample Functions')\n",
    "\n",
    "def train(model, likelihood, train_x, train_y):# Find optimal model hyperparameters\n",
    "    model.train()\n",
    "    likelihood.train()\n",
    "    training_iter =20;\n",
    "    # Use the adam optimizer\n",
    "    optimizer = torch.optim.Adam([\n",
    "        {'params': model.parameters()},  # Includes GaussianLikelihood parameters\n",
    "    ], lr=0.1)\n",
    "\n",
    "    # \"Loss\" for GPs - the marginal log likelihood\n",
    "    mll = gpytorch.mlls.ExactMarginalLogLikelihood(likelihood, model)\n",
    "\n",
    "    for i in range(training_iter):\n",
    "        # Zero gradients from previous iteration\n",
    "        optimizer.zero_grad()\n",
    "        # Output from model\n",
    "        output = model(train_x)\n",
    "        # Calc loss and backprop gradients\n",
    "        loss = -mll(output, train_y)\n",
    "        loss.backward()\n",
    "        optimizer.step()\n",
    "        print(loss)\n",
    "        \n",
    "def test(model, likelihood, test_x):\n",
    "    model.eval() ##Test takes model returns output\n",
    "    likelihood.eval()\n",
    "    with torch.no_grad(), gpytorch.settings.fast_pred_var():\n",
    "        f_preds = likelihood(model(test_x)) \n",
    "    return f_preds\n",
    "\n",
    "def train_plot(Currkernel,xtrain,ytrain,xtest,meanY, \n",
    "               std,noise, KernelStr, ytest=None):\n",
    "    likelihood = gpytorch.likelihoods.GaussianLikelihood() ##One function to call both train and plot\n",
    "    likelihood.noise_covar.noise =noise # CovarNoise rescaled by std\n",
    "    model  =  GPModel(xtrain , ytrain , likelihood, Currkernel)\n",
    "    train(model, likelihood, xtrain, ytrain)\n",
    "    start = time.time()\n",
    "    f_preds= test(model, likelihood, xtest)\n",
    "    end = time.time()\n",
    "    print(\"time: \", end - start)\n",
    "    if ytest is None: ##Switch for part 4 function plotting\n",
    "        plotFpred(f_preds, xtrain,ytrain,xtest,meanY, std, KernelStr)\n",
    "    else:\n",
    "        plotFpred(f_preds, xtest,ytest,xtest,meanY, std, KernelStr)\n",
    "    return model"
   ]
  },
  {
   "cell_type": "code",
   "execution_count": 44,
   "id": "copyrighted-engineer",
   "metadata": {
    "scrolled": true
   },
   "outputs": [
    {
     "name": "stdout",
     "output_type": "stream",
     "text": [
      "tensor(2.0743, grad_fn=<NegBackward>)\n",
      "tensor(2.0691, grad_fn=<NegBackward>)\n",
      "tensor(2.0639, grad_fn=<NegBackward>)\n",
      "tensor(2.0585, grad_fn=<NegBackward>)\n",
      "tensor(2.0532, grad_fn=<NegBackward>)\n",
      "tensor(2.0478, grad_fn=<NegBackward>)\n",
      "tensor(2.0424, grad_fn=<NegBackward>)\n",
      "tensor(2.0369, grad_fn=<NegBackward>)\n",
      "tensor(2.0314, grad_fn=<NegBackward>)\n",
      "tensor(2.0258, grad_fn=<NegBackward>)\n",
      "tensor(2.0202, grad_fn=<NegBackward>)\n",
      "tensor(2.0145, grad_fn=<NegBackward>)\n",
      "tensor(2.0087, grad_fn=<NegBackward>)\n",
      "tensor(2.0029, grad_fn=<NegBackward>)\n",
      "tensor(1.9970, grad_fn=<NegBackward>)\n",
      "tensor(1.9911, grad_fn=<NegBackward>)\n",
      "tensor(1.9850, grad_fn=<NegBackward>)\n",
      "tensor(1.9789, grad_fn=<NegBackward>)\n",
      "tensor(1.9726, grad_fn=<NegBackward>)\n",
      "tensor(1.9663, grad_fn=<NegBackward>)\n",
      "time:  16.627797603607178\n",
      "Parameter name: likelihood.noise_covar.raw_noise           value = 7.975352764129639\n",
      "Parameter name: mean_module.constant                       value = 0.017339788377285004\n",
      "Parameter name: covar_module.raw_lengthscale               value = -0.6389481425285339\n"
     ]
    },
    {
     "data": {
      "text/plain": [
       "<Figure size 432x288 with 0 Axes>"
      ]
     },
     "metadata": {},
     "output_type": "display_data"
    },
    {
     "data": {
      "image/png": "[encoded data removed]",
      "text/plain": [
       "<Figure size 648x288 with 2 Axes>"
      ]
     },
     "metadata": {
      "needs_background": "light"
     },
     "output_type": "display_data"
    }
   ],
   "source": [
    "Currkernel = gpytorch.kernels.RBFKernel()\n",
    "#Currkernel.outputscale = 1;\n",
    "Currkernel.lengthscale = 0.1;\n",
    "plt.figure()\n",
    "model = train_plot(Currkernel,xtrain,ytrain,xtrain,meanY,std,10, \"RBF\")\n",
    "for param_name, param in model.named_parameters():\n",
    "    print(f'Parameter name: {param_name:42} value = {param.item()}')"
   ]
  },
  {
   "cell_type": "code",
   "execution_count": 45,
   "id": "dimensional-story",
   "metadata": {},
   "outputs": [
    {
     "name": "stdout",
     "output_type": "stream",
     "text": [
      "tensor([[0.4239]], grad_fn=<SoftplusBackward>)\n",
      "tensor([7.9757], grad_fn=<SoftplusBackward>)\n"
     ]
    }
   ],
   "source": [
    "constraint = model.covar_module.raw_lengthscale_constraint\n",
    "print(constraint.transform(model.covar_module.raw_lengthscale))\n",
    "print(constraint.transform(model.likelihood.noise_covar.raw_noise))\n"
   ]
  },
  {
   "cell_type": "markdown",
   "id": "binding-heath",
   "metadata": {},
   "source": [
    "# PLOT FUNCTION"
   ]
  },
  {
   "cell_type": "code",
   "execution_count": 54,
   "id": "awful-liquid",
   "metadata": {},
   "outputs": [],
   "source": [
    "def plotSSM(test_x, preds, lower, upper,  xtrain, ytrain):\n",
    "    fig = plt.figure()\n",
    "    # Get upper and lower confidence bounds\n",
    "    # Plot training data as black stars\n",
    "    plt.plot(xtrain, ytrain, 'k*')\n",
    "    # Plot predictive means as blue line\n",
    "    plt.plot(test_x, preds, 'r')\n",
    "    # Shade between the lower and upper confidence bounds\n",
    "    plt.fill_between(test_x, lower,\n",
    "                       upper, alpha=0.5)\n",
    "    plt.legend(['Observed Data', 'Mean', 'Confidence'])\n",
    "    #plt.xlim(0,120)\n",
    "    #plt.ylim(50,450)"
   ]
  },
  {
   "cell_type": "markdown",
   "id": "protective-subsection",
   "metadata": {},
   "source": [
    "# Create the State Space Model"
   ]
  },
  {
   "cell_type": "code",
   "execution_count": 47,
   "id": "wound-divorce",
   "metadata": {},
   "outputs": [],
   "source": [
    "noise_variance = 0.0315 #LEARN HYPERPARAMETERS LATER \n",
    "lengthscale = 0.2841\n",
    "variance =0.0368\n",
    "\n",
    "order = 6  # Order of the RBF approximation for (P)SSGP, will not be used if the GP model is GPR1515\n",
    "balancing_iter = 5  # Number of balancing steps for the resulting SDE to make it more stable, will not be used if the GP model is GPR\n",
    "cov = RBF(variance=variance, lengthscales=lengthscale, order=order, balancing_iter=balancing_iter)"
   ]
  },
  {
   "cell_type": "code",
   "execution_count": 48,
   "id": "split-exclusion",
   "metadata": {},
   "outputs": [
    {
     "name": "stdout",
     "output_type": "stream",
     "text": [
      "tf.Tensor([[3.32451997]], shape=(1, 1), dtype=float64)\n"
     ]
    }
   ],
   "source": [
    "discrete_model = cov.get_sde()\n",
    "print(discrete_model[4]*15)"
   ]
  },
  {
   "cell_type": "code",
   "execution_count": 62,
   "id": "monetary-antenna",
   "metadata": {},
   "outputs": [
    {
     "data": {
      "image/png": "[encoded data removed]",
      "text/plain": [
       "<Figure size 432x288 with 1 Axes>"
      ]
     },
     "metadata": {
      "needs_background": "light"
     },
     "output_type": "display_data"
    }
   ],
   "source": [
    "discrete_model = cov.get_sde()\n",
    "P_inf = discrete_model[0].numpy();\n",
    "F = discrete_model[1].numpy();\n",
    "L = discrete_model[2].numpy();\n",
    "H = discrete_model[3].numpy();\n",
    "Q = discrete_model[4].numpy()*15; \n",
    "\n",
    "class KalmanFilter:\n",
    "    def __init__(self,A,B,C,Q,R):\n",
    "        self.A = A\n",
    "        self.B = B\n",
    "        self.C = C\n",
    "        self.Q = Q\n",
    "        self.R = 0.0315\n",
    "        self.const = np.zeros((order*2,order))\n",
    "        self.const[order:order*2,:] = np.identity(order)\n",
    "        \n",
    "    def calc_Qs(self,dt):\n",
    "        Qs = np.zeros((order*2,order*2))\n",
    "        Qs[:order,:order]=self.A\n",
    "        Qs[order:order*2,order:order*2]=-self.A.T\n",
    "        Qs[:order,order:order*2]=np.matmul(self.B,self.B.T)*self.Q\n",
    "        Qs = expm(Qs*dt)\n",
    "        Qs = np.matmul(Qs[:order,order:order*2],(expm(self.A*dt).T));\n",
    "        return Qs\n",
    "    \n",
    "    def predict(self,xt,covar,dt):\n",
    "        #xt_1 = np.matmul(self.A,xt)*dt+xt\n",
    "        A_now = expm(self.A*dt)\n",
    "        xt_1 = np.matmul(A_now,xt)\n",
    "        #diff = xt_1- np.matmul(self.A,xt)*dt-xt\n",
    "        covar_t1 = np.matmul(np.matmul(A_now,covar),A_now.T)+self.calc_Qs(dt)\n",
    "        covar_t1 = (covar_t1+covar_t1.T)*0.5;\n",
    "        return xt_1,covar_t1\n",
    "    def update(self,zt,xt,covar):\n",
    "        S = np.matmul(np.matmul(self.C,covar),self.C.T)+self.R\n",
    "        Kt = np.matmul(covar,self.C.T)/S[0,0]\n",
    "        covar_t1 = covar - np.matmul(Kt,Kt.T)*S[0,0]\n",
    "        xt_1 = xt+Kt*(zt-np.matmul(self.C,xt))\n",
    "        return xt_1,covar_t1\n",
    "    \n",
    "model = KalmanFilter(F,L,H,Q,variance)\n",
    "xtrain_kal = xtrain.numpy()\n",
    "length = xtrain_kal.shape[0]\n",
    "xt = np.zeros((order,1))\n",
    "xt[0,0] =  ytrain[0]\n",
    "covar = P_inf;\n",
    "y_predict = np.zeros(length)\n",
    "x_interpol = np.zeros(length*10)\n",
    "low_interpol = np.zeros(length*10)\n",
    "y_interpol = np.zeros(length*10)\n",
    "high_interpol = np.zeros(length*10)\n",
    "y_predict[0] = xt[0]\n",
    "t=xtrain_kal[0]\n",
    "count =0\n",
    "for i in range(1,length):\n",
    "    dt = xtrain_kal[i]-xtrain_kal[i-1]\n",
    "    if(dt<0):\n",
    "        print(dt)\n",
    "    t+=dt\n",
    "    xt_p,covar_p = model.predict(xt,covar,dt)\n",
    "    xt,covar = model.update(ytrain[i].numpy(),xt_p,covar_p)    \n",
    "    y_predict[i] = xt_p[0]    \n",
    "    for j in range(1,5):\n",
    "        x_interpol[count]=t+dt*j/5\n",
    "        xt,covar = model.predict(xt,covar,dt/5)\n",
    "        y_interpol[count] = xt[0]\n",
    "        low_interpol[count] = xt[0]-covar[0,0]/2\n",
    "        high_interpol[count] = xt[0]+covar[0,0]/2\n",
    "        count = count +1\n",
    "#idx2 = np.argsort(x_interpol)\n",
    "#x_interpol = x_interpol[idx2]\n",
    "#y_interpol_p = y_interpol_p[idx2]\n",
    "#low_interpol_p = low_interpol_p[idx2]\n",
    "#high_interpol_p = high_interpol_p[idx2]\n",
    "y_predict_p = y_predict*std+meanY\n",
    "ytrain_p= ytrain*std+meanY\n",
    "y_interpol_p = y_interpol*std+meanY\n",
    "low_interpol_p = low_interpol*std+meanY\n",
    "high_interpol_p = high_interpol*std+meanY\n",
    "plotSSM(x_interpol[:count], y_interpol_p[:count], low_interpol_p[:count], high_interpol_p[:count],  xtrain, ytrain_p)"
   ]
  },
  {
   "cell_type": "code",
   "execution_count": 50,
   "id": "ethical-dover",
   "metadata": {},
   "outputs": [
    {
     "name": "stdout",
     "output_type": "stream",
     "text": [
      "[[-1.43283454e+10  4.34674297e+10 -5.83052863e+10  4.13661459e+10\n",
      "  -1.58264362e+10  3.21134381e+09]\n",
      " [ 4.34674297e+10 -1.32105262e+11  1.77546715e+11 -1.26230896e+11\n",
      "   4.84052639e+10 -9.84596375e+09]\n",
      " [-5.83052863e+10  1.77546715e+11 -2.39123517e+11  1.70399980e+11\n",
      "  -6.55051074e+10  1.33599803e+10]\n",
      " [ 4.13661459e+10 -1.26230896e+11  1.70399980e+11 -1.21730603e+11\n",
      "   4.69231053e+10 -9.59845361e+09]\n",
      " [-1.58264362e+10  4.84052639e+10 -6.55051074e+10  4.69231053e+10\n",
      "  -1.81413763e+10  3.72309197e+09]\n",
      " [ 3.21134381e+09 -9.84596375e+09  1.33599803e+10 -9.59845361e+09\n",
      "   3.72309197e+09 -7.66837199e+08]]\n"
     ]
    }
   ],
   "source": [
    "print(model.calc_Qs(-1))"
   ]
  },
  {
   "cell_type": "code",
   "execution_count": 59,
   "id": "uniform-update",
   "metadata": {},
   "outputs": [],
   "source": [
    "bins = np.arange(-1, 0.8, 0.05, dtype=float)\n",
    "ybins = np.zeros(bins.shape[0])\n",
    "xbins = np.zeros(bins.shape[0])\n",
    "count = 0;\n",
    "for i in range(bins.shape[0]):\n",
    "    index1 = bins[i];\n",
    "    while xtrain[count] < index1:\n",
    "        count+=1\n",
    "    xbins[i] = xtrain[count]\n",
    "    ybins[i] = ytrain[count]"
   ]
  },
  {
   "cell_type": "code",
   "execution_count": 63,
   "id": "developing-clause",
   "metadata": {},
   "outputs": [
    {
     "data": {
      "image/png": "[encoded data removed]",
      "text/plain": [
       "<Figure size 432x288 with 1 Axes>"
      ]
     },
     "metadata": {
      "needs_background": "light"
     },
     "output_type": "display_data"
    }
   ],
   "source": [
    "model = KalmanFilter(F,L,H,Q,variance)\n",
    "xtrain_kal = xbins\n",
    "length = bins.shape[0]\n",
    "xt = np.zeros((order,1))\n",
    "xt[0,0] =  ytrain[0]\n",
    "covar = P_inf;\n",
    "y_predict = np.zeros(length)\n",
    "x_interpol = np.zeros(length*10)\n",
    "low_interpol = np.zeros(length*10)\n",
    "y_interpol = np.zeros(length*10)\n",
    "high_interpol = np.zeros(length*10)\n",
    "y_predict[0] = xt[0]\n",
    "t=xtrain_kal[0]\n",
    "count =0\n",
    "for i in range(1,length):\n",
    "    dt = xtrain_kal[i]-xtrain_kal[i-1]\n",
    "    if(dt<0):\n",
    "        print(dt)\n",
    "    t+=dt\n",
    "    xt_p,covar_p = model.predict(xt,covar,dt)\n",
    "    xt,covar = model.update(ybins[i],xt_p,covar_p)    \n",
    "    y_predict[i] = xt_p[0]    \n",
    "    for j in range(1,5):\n",
    "        x_interpol[count]=t+dt*j/5\n",
    "        xt,covar = model.predict(xt,covar,dt/5)\n",
    "        y_interpol[count] = xt[0]\n",
    "        low_interpol[count] = xt[0]-covar[0,0]/2\n",
    "        high_interpol[count] = xt[0]+covar[0,0]/2\n",
    "        count = count +1\n",
    "#idx2 = np.argsort(x_interpol)\n",
    "#x_interpol = x_interpol[idx2]\n",
    "#y_interpol_p = y_interpol_p[idx2]\n",
    "#low_interpol_p = low_interpol_p[idx2]\n",
    "#high_interpol_p = high_interpol_p[idx2]\n",
    "y_predict_p = y_predict*std+meanY\n",
    "ytrain_p= ybins*std+meanY\n",
    "y_interpol_p = y_interpol*std+meanY\n",
    "low_interpol_p = low_interpol*std+meanY\n",
    "high_interpol_p = high_interpol*std+meanY\n",
    "plotSSM(x_interpol[:count], y_interpol_p[:count], low_interpol_p[:count], high_interpol_p[:count],  xbins, ytrain_p)"
   ]
  },
  {
   "cell_type": "markdown",
   "id": "harmful-yugoslavia",
   "metadata": {},
   "source": [
    "###### "
   ]
  },
  {
   "cell_type": "code",
   "execution_count": 56,
   "id": "foster-match",
   "metadata": {},
   "outputs": [],
   "source": [
    "discrete_model = cov.get_sde()\n",
    "P_inf = discrete_model[0].numpy().flatten().tolist();\n",
    "F = discrete_model[1].numpy().flatten().tolist();\n",
    "L = discrete_model[2].numpy().flatten().tolist();\n",
    "H = discrete_model[3].numpy().flatten().tolist();\n",
    "Q = (discrete_model[4].numpy()*15).flatten().tolist(); \n",
    "xtrain_yaml = xbins.flatten().tolist(); \n",
    "ytrain_yaml = ybins.flatten().tolist(); \n",
    "meanY_yaml = meanY.tolist();\n",
    "std_yaml = std.tolist();\n",
    "dict_file = [{'Order' : order},{'P_inf' : P_inf},{'F' : F},{'L' : L},{'H' : H},{'Q' : Q},{'xtrain' : xtrain_yaml},{'ytrain' : ytrain_yaml},{'xScale' : 20},{'meanY' : meanY_yaml},{'std':std_yaml}]\n",
    "\n",
    "with open('model_params.yaml', 'w') as file:\n",
    "    documents = yaml.dump(dict_file, file)"
   ]
  },
  {
   "cell_type": "markdown",
   "id": "simple-solid",
   "metadata": {},
   "source": [
    "# Check the Local Approximation "
   ]
  },
  {
   "cell_type": "code",
   "execution_count": 57,
   "id": "cognitive-property",
   "metadata": {},
   "outputs": [
    {
     "data": {
      "image/png": "[encoded data removed]",
      "text/plain": [
       "<Figure size 432x288 with 1 Axes>"
      ]
     },
     "metadata": {
      "needs_background": "light"
     },
     "output_type": "display_data"
    },
    {
     "data": {
      "text/plain": [
       "<Figure size 432x288 with 0 Axes>"
      ]
     },
     "metadata": {},
     "output_type": "display_data"
    }
   ],
   "source": [
    "plt.plot(xtrain, ytrain*std+meanY, 'k*')\n",
    "plt.plot(x_interpol[:count], y_interpol_p[:count])\n",
    "t_test = 0.4\n",
    "i=0\n",
    "t=xtrain_kal[0];\n",
    "extraSamples = 15;\n",
    "x_dropoff = np.zeros(extraSamples*2);\n",
    "y_dropoff = np.zeros(extraSamples*2);\n",
    "while xtrain_kal[i] < t_test:\n",
    "    dt = xtrain_kal[i+1]- xtrain_kal[i]\n",
    "    t+=dt\n",
    "    xt_p,covar_p = model.predict(xt,covar,dt)\n",
    "    xt,covar = model.update(ytrain[i].numpy(),xt_p,covar_p)\n",
    "    i+=1\n",
    "xt_p=xt\n",
    "dt = 0.01\n",
    "covar_p = covar;\n",
    "plt.plot(t_test,xt[0]*std+meanY,'ro')\n",
    "t_lead = t\n",
    "for i in range(extraSamples):\n",
    "    x_dropoff[extraSamples-i-1]=t_lead\n",
    "    xt_p,covar_p = model.predict(xt_p,covar_p,-1*dt)\n",
    "    #print(xt_p)\n",
    "    y_dropoff[extraSamples-i-1]=xt_p[0]\n",
    "    t_lead-=dt;\n",
    "xt_p=xt\n",
    "covar_p = covar;\n",
    "t_lead = t\n",
    "for i in range(extraSamples):\n",
    "    x_dropoff[i+extraSamples]=t_lead\n",
    "    xt_p,covar_p = model.predict(xt_p,covar_p,dt)\n",
    "    #print(xt_p)\n",
    "    y_dropoff[i+extraSamples]=xt_p[0]\n",
    "    t_lead+=dt;\n",
    "plt.plot(x_dropoff,y_dropoff*std+meanY)\n",
    "plt.legend(['GP prediction', 'True Data','Current State','State Space Approximation'])\n",
    "\n",
    "plt.figure();\n"
   ]
  },
  {
   "cell_type": "code",
   "execution_count": null,
   "id": "committed-minutes",
   "metadata": {},
   "outputs": [],
   "source": []
  },
  {
   "cell_type": "markdown",
   "id": "aging-connecticut",
   "metadata": {},
   "source": [
    "# Convert Parameters to YAML file"
   ]
  },
  {
   "cell_type": "code",
   "execution_count": 13,
   "id": "external-brave",
   "metadata": {},
   "outputs": [],
   "source": []
  },
  {
   "cell_type": "code",
   "execution_count": null,
   "id": "transparent-northeast",
   "metadata": {},
   "outputs": [],
   "source": []
  },
  {
   "cell_type": "code",
   "execution_count": null,
   "id": "vocal-collector",
   "metadata": {},
   "outputs": [],
   "source": []
  },
  {
   "cell_type": "code",
   "execution_count": null,
   "id": "systematic-course",
   "metadata": {},
   "outputs": [],
   "source": []
  },
  {
   "cell_type": "code",
   "execution_count": null,
   "id": "parallel-arizona",
   "metadata": {},
   "outputs": [],
   "source": []
  }
 ],
 "metadata": {
  "kernelspec": {
   "display_name": "Python 3",
   "language": "python",
   "name": "python3"
  },
  "language_info": {
   "codemirror_mode": {
    "name": "ipython",
    "version": 3
   },
   "file_extension": ".py",
   "mimetype": "text/x-python",
   "name": "python",
   "nbconvert_exporter": "python",
   "pygments_lexer": "ipython3",
   "version": "3.7.10"
  }
 },
 "nbformat": 4,
 "nbformat_minor": 5
}
