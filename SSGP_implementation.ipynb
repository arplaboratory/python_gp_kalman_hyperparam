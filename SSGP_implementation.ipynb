{
 "cells": [
  {
   "cell_type": "code",
   "execution_count": 1,
   "id": "rational-peter",
   "metadata": {},
   "outputs": [],
   "source": [
    "import math\n",
    "import torch\n",
    "from matplotlib import pyplot as plt\n",
    "import numpy as np;\n",
    "import scipy.io\n",
    "import warnings\n",
    "warnings.filterwarnings('ignore')\n",
    "from scipy.linalg import expm\n",
    "from pssgp.kernels import RBF\n",
    "from pssgp.model import StateSpaceGP\n",
    "import tensorflow as tf\n",
    "import yaml\n",
    "import gpytorch\n",
    "import time\n",
    "from scipy.spatial.transform import Rotation as R"
   ]
  },
  {
   "cell_type": "markdown",
   "id": "genetic-edinburgh",
   "metadata": {},
   "source": [
    "# Load a Dataset"
   ]
  },
  {
   "cell_type": "code",
   "execution_count": 2,
   "id": "mineral-monthly",
   "metadata": {},
   "outputs": [
    {
     "name": "stdout",
     "output_type": "stream",
     "text": [
      "Total no. of rows: 20030\n",
      "['state_in', 'state_ref', 'error', 'input_in', 'state_out', 'state_pred', 'timestamp', 'dt']\n"
     ]
    }
   ],
   "source": [
    "import csv\n",
    "# reading csv file\n",
    "filename = 'drag_sim.csv'\n",
    "fields = []\n",
    "rows = []\n",
    "with open(filename, 'r') as csvfile:\n",
    "    # creating a csv reader object\n",
    "    csvreader = csv.reader(csvfile)\n",
    "      \n",
    "    # extracting field names through first row\n",
    "    fields = next(csvreader)\n",
    "  \n",
    "    # extracting each data row one by one\n",
    "    for row in csvreader:\n",
    "        rows.append(row)\n",
    "  \n",
    "    # get total number of rows\n",
    "    print(\"Total no. of rows: %d\"%(csvreader.line_num))\n",
    "print(fields)"
   ]
  },
  {
   "cell_type": "code",
   "execution_count": null,
   "id": "genetic-virginia",
   "metadata": {},
   "outputs": [],
   "source": []
  },
  {
   "cell_type": "code",
   "execution_count": 3,
   "id": "loaded-ghost",
   "metadata": {},
   "outputs": [
    {
     "name": "stdout",
     "output_type": "stream",
     "text": [
      "19997\n",
      "Percet Outliers 0.0015976833591292428\n"
     ]
    }
   ],
   "source": [
    "v_world_in = np.zeros((csvreader.line_num-1,3));\n",
    "v_body_in = np.zeros((csvreader.line_num-1,3));\n",
    "acc_body_err = np.zeros((csvreader.line_num-1,3));\n",
    "dt = rows[1][8]\n",
    "rot_wb_in = np.zeros((csvreader.line_num-1,3,3));\n",
    "rot_in_check = [1,0,0,0];\n",
    "rot_pred_check = [1,0,0,0];\n",
    "rot_out_check = [1,0,0,0];\n",
    "count =0\n",
    "for i in range(csvreader.line_num-1):\n",
    "    state_in = rows[i][1][1:-1]\n",
    "    state_pred = rows[i][6][1:-1]\n",
    "    state_out = rows[i][5][1:-1]\n",
    "    v_world_in[i] = list(map(float, state_in.split(',')))[7:10]\n",
    "    rot_in = list(map(float, state_in.split(',')))[3:7]\n",
    "    v_world_out = list(map(float, state_out.split(',')))[7:10]\n",
    "    rot_out = list(map(float, state_out.split(',')))[3:7]\n",
    "    v_world_pred = list(map(float, state_pred.split(',')))[7:10]\n",
    "    rot_pred = list(map(float, state_pred.split(',')))[3:7]\n",
    "    #Convert to scalar last format\n",
    "    for j in range(4):\n",
    "        rot_in_check[j] = rot_in[(j+1)%4]\n",
    "        rot_pred_check[j] = rot_pred[(j+1)%4]\n",
    "        rot_out_check[j] = rot_out[(j+1)%4]\n",
    "\n",
    "    #Input\n",
    "    rot_wb_in[i] = np.array(R.from_quat(rot_in_check).as_matrix()).T\n",
    "    v_body_in[i] = np.matmul(rot_wb_in[i],v_world_in[i])\n",
    "    #prediction\n",
    "    rot_wb_pred = np.array(R.from_quat(rot_pred_check).as_matrix()).T\n",
    "    v_body_pred = np.matmul(rot_wb_pred,np.array(v_world_pred))\n",
    "    #Output\n",
    "    rot_wb_out = np.array(R.from_quat(rot_out_check).as_matrix()).T\n",
    "    v_body_out = np.matmul(rot_wb_out ,np.array(v_world_out))\n",
    "    acc_err = (v_body_out-v_body_pred)/0.01700000000000001\n",
    "    if np.sum(abs(acc_err))<150:\n",
    "        v_body_in[count] = np.matmul(rot_wb_in[i],v_world_in[i])\n",
    "        acc_body_err[count] =acc_err\n",
    "        count+=1\n",
    "print(count)\n",
    "num_data = count\n",
    "print(\"Percet Outliers\" , 1-count/(csvreader.line_num-1))"
   ]
  },
  {
   "cell_type": "markdown",
   "id": "acute-genesis",
   "metadata": {},
   "source": [
    "# Plot Drag"
   ]
  },
  {
   "cell_type": "code",
   "execution_count": 4,
   "id": "confidential-canyon",
   "metadata": {},
   "outputs": [
    {
     "data": {
      "text/plain": [
       "<matplotlib.collections.PathCollection at 0x26bca82f648>"
      ]
     },
     "execution_count": 4,
     "metadata": {},
     "output_type": "execute_result"
    },
    {
     "data": {
      "image/png": "[encoded data removed]",
      "text/plain": [
       "<Figure size 432x288 with 1 Axes>"
      ]
     },
     "metadata": {
      "needs_background": "light"
     },
     "output_type": "display_data"
    },
    {
     "data": {
      "image/png": "[encoded data removed]",
      "text/plain": [
       "<Figure size 432x288 with 1 Axes>"
      ]
     },
     "metadata": {
      "needs_background": "light"
     },
     "output_type": "display_data"
    },
    {
     "data": {
      "image/png": "[encoded data removed]",
      "text/plain": [
       "<Figure size 432x288 with 1 Axes>"
      ]
     },
     "metadata": {
      "needs_background": "light"
     },
     "output_type": "display_data"
    }
   ],
   "source": [
    "plt.figure()\n",
    "plt.scatter(v_body_in[:count,0],acc_body_err[:count,0]) #Noise around 1\n",
    "plt.figure()\n",
    "plt.scatter(v_body_in[:count,1],acc_body_err[:count,1]) #noise around 2\n",
    "plt.figure()\n",
    "plt.scatter(v_body_in[:count,2],acc_body_err[:count,2]) #Noise around 5\n"
   ]
  },
  {
   "cell_type": "code",
   "execution_count": 23,
   "id": "studied-bleeding",
   "metadata": {},
   "outputs": [
    {
     "name": "stdout",
     "output_type": "stream",
     "text": [
      "torch.Size([19997])\n",
      "torch.Size([19997])\n"
     ]
    }
   ],
   "source": [
    "##Data processing\n",
    "#D = scipy.io.loadmat(\"airline.mat\")\n",
    "xtrain = v_body_in[:num_data,1]/20\n",
    "y = acc_body_err[:num_data,1]\n",
    "#xtrain = D[\"xtrain\"]\n",
    "#y = D[\"ytrain\"]\n",
    "meanY = np.array(y).sum()/len(y);\n",
    "std = np.array(y).std();\n",
    "ytrain = (y-meanY)/std #Divide by standard deviation\n",
    "#data = (xtrain.astype(float),ytrain.astype(float))\n",
    "xtrain = torch.tensor(xtrain).float().flatten()\n",
    "ytrain = torch.tensor(ytrain).float().flatten()\n",
    "idx = np.sort(np.random.randint(count,size=5000))\n",
    "#xtrain = xtrain[idx]\n",
    "#ytrain = ytrain[idx]\n",
    "idx2 = np.argsort(xtrain)\n",
    "xtrain = xtrain[idx2]\n",
    "ytrain = ytrain[idx2]\n",
    "print(xtrain.shape)\n",
    "print(ytrain.shape)"
   ]
  },
  {
   "cell_type": "markdown",
   "id": "hairy-charity",
   "metadata": {},
   "source": [
    "# Learn Hyperparameters"
   ]
  },
  {
   "cell_type": "code",
   "execution_count": 24,
   "id": "fossil-divorce",
   "metadata": {},
   "outputs": [],
   "source": [
    "# GP Model Kernel is a parameter.\n",
    "class GPModel(gpytorch.models.ExactGP):\n",
    "    def __init__(self,train_x, train_y, likelihood, kernel):\n",
    "        super(GPModel, self).__init__(train_x, train_y, likelihood)\n",
    "        self.mean_module = gpytorch.means.ConstantMean()\n",
    "        self.covar_module = kernel; ##Kernel function\n",
    "\n",
    "    def forward(self, x):\n",
    "        mean_x = self.mean_module(x)\n",
    "        covar_x = self.covar_module(x)\n",
    "        return gpytorch.distributions.MultivariateNormal(mean_x, covar_x)\n",
    "    \n",
    "##Function that plots the kernel confidence region + sample functions\n",
    "def plotFpred(f_preds, xtrain,ytrain,xtest,meanY, std, KernelStr):\n",
    "    with torch.no_grad():\n",
    "        # Initialize plot\n",
    "        f, ax = plt.subplots(1, 2, figsize=(9, 4))\n",
    "        # Get upper and lower confidence bounds\n",
    "        lower, upper = f_preds.confidence_region()\n",
    "        lower = lower*std +meanY\n",
    "        upper = upper*std +meanY\n",
    "        ytrain = ytrain*std + meanY\n",
    "        # Plot training data as black stars\n",
    "        ax[0].plot(xtrain, ytrain, 'k*')\n",
    "        # Plot predictive means as blue line\n",
    "        ax[0].plot(xtest, f_preds.mean*std+meanY, 'b')\n",
    "        # Shade between the lower and upper confidence bounds\n",
    "        ax[0].fill_between(xtest.numpy(), lower.numpy(),\n",
    "                           upper.numpy(), alpha=0.5)\n",
    "        ax[0].legend(['Observed Data', 'Mean', 'Confidence'])\n",
    "        ax[0].set_title(KernelStr + 'Confidence')\n",
    "        ax[1].plot(xtrain, ytrain, 'k*')\n",
    "        # Plot predictive means as blue line\n",
    "        f_samples = f_preds.rsample(sample_shape = torch.Size([2]))\n",
    "        for samples in f_samples.detach():\n",
    "            ax[1].plot(xtest, samples*std+meanY)\n",
    "        ax[1].set_title(KernelStr + 'Sample Functions')\n",
    "\n",
    "def train(model, likelihood, train_x, train_y):# Find optimal model hyperparameters\n",
    "    model.train()\n",
    "    likelihood.train()\n",
    "    training_iter =100;\n",
    "    # Use the adam optimizer\n",
    "    optimizer = torch.optim.Adam([\n",
    "        {'params': model.parameters()},  # Includes GaussianLikelihood parameters\n",
    "    ], lr=0.1)\n",
    "\n",
    "    # \"Loss\" for GPs - the marginal log likelihood\n",
    "    mll = gpytorch.mlls.ExactMarginalLogLikelihood(likelihood, model)\n",
    "\n",
    "    for i in range(training_iter):\n",
    "        # Zero gradients from previous iteration\n",
    "        optimizer.zero_grad()\n",
    "        # Output from model\n",
    "        output = model(train_x)\n",
    "        # Calc loss and backprop gradients\n",
    "        loss = -mll(output, train_y)\n",
    "        loss.backward()\n",
    "        optimizer.step()\n",
    "        \n",
    "def test(model, likelihood, test_x):\n",
    "    model.eval() ##Test takes model returns output\n",
    "    likelihood.eval()\n",
    "    with torch.no_grad(), gpytorch.settings.fast_pred_var():\n",
    "        f_preds = likelihood(model(test_x)) \n",
    "    return f_preds\n",
    "\n",
    "def train_plot(Currkernel,xtrain,ytrain,xtest,meanY, \n",
    "               std,noise, KernelStr, ytest=None):\n",
    "    likelihood = gpytorch.likelihoods.GaussianLikelihood() ##One function to call both train and plot\n",
    "    likelihood.noise_covar.noise =noise # CovarNoise rescaled by std\n",
    "    model  =  GPModel(xtrain , ytrain , likelihood, Currkernel)\n",
    "    train(model, likelihood, xtrain, ytrain)\n",
    "    start = time.time()\n",
    "    f_preds= test(model, likelihood, xtest)\n",
    "    end = time.time()\n",
    "    print(\"time: \", end - start)\n",
    "    if ytest is None: ##Switch for part 4 function plotting\n",
    "        plotFpred(f_preds, xtrain,ytrain,xtest,meanY, std, KernelStr)\n",
    "    else:\n",
    "        plotFpred(f_preds, xtest,ytest,xtest,meanY, std, KernelStr)\n",
    "    return model"
   ]
  },
  {
   "cell_type": "code",
   "execution_count": 128,
   "id": "copyrighted-engineer",
   "metadata": {
    "scrolled": true
   },
   "outputs": [
    {
     "ename": "KeyboardInterrupt",
     "evalue": "",
     "output_type": "error",
     "traceback": [
      "\u001b[1;31m---------------------------------------------------------------------------\u001b[0m",
      "\u001b[1;31mKeyboardInterrupt\u001b[0m                         Traceback (most recent call last)",
      "\u001b[1;32m<ipython-input-128-3defda252c50>\u001b[0m in \u001b[0;36m<module>\u001b[1;34m\u001b[0m\n\u001b[0;32m      3\u001b[0m \u001b[0mCurrkernel\u001b[0m\u001b[1;33m.\u001b[0m\u001b[0mlengthscale\u001b[0m \u001b[1;33m=\u001b[0m \u001b[1;36m0.1\u001b[0m\u001b[1;33m;\u001b[0m\u001b[1;33m\u001b[0m\u001b[1;33m\u001b[0m\u001b[0m\n\u001b[0;32m      4\u001b[0m \u001b[0mplt\u001b[0m\u001b[1;33m.\u001b[0m\u001b[0mfigure\u001b[0m\u001b[1;33m(\u001b[0m\u001b[1;33m)\u001b[0m\u001b[1;33m\u001b[0m\u001b[1;33m\u001b[0m\u001b[0m\n\u001b[1;32m----> 5\u001b[1;33m \u001b[0mmodel\u001b[0m \u001b[1;33m=\u001b[0m \u001b[0mtrain_plot\u001b[0m\u001b[1;33m(\u001b[0m\u001b[0mCurrkernel\u001b[0m\u001b[1;33m,\u001b[0m\u001b[0mxtrain\u001b[0m\u001b[1;33m,\u001b[0m\u001b[0mytrain\u001b[0m\u001b[1;33m,\u001b[0m\u001b[0mxtrain\u001b[0m\u001b[1;33m,\u001b[0m\u001b[0mmeanY\u001b[0m\u001b[1;33m,\u001b[0m\u001b[0mstd\u001b[0m\u001b[1;33m,\u001b[0m\u001b[1;36m10\u001b[0m\u001b[1;33m,\u001b[0m \u001b[1;34m\"RBF\"\u001b[0m\u001b[1;33m)\u001b[0m\u001b[1;33m\u001b[0m\u001b[1;33m\u001b[0m\u001b[0m\n\u001b[0m\u001b[0;32m      6\u001b[0m \u001b[1;32mfor\u001b[0m \u001b[0mparam_name\u001b[0m\u001b[1;33m,\u001b[0m \u001b[0mparam\u001b[0m \u001b[1;32min\u001b[0m \u001b[0mmodel\u001b[0m\u001b[1;33m.\u001b[0m\u001b[0mnamed_parameters\u001b[0m\u001b[1;33m(\u001b[0m\u001b[1;33m)\u001b[0m\u001b[1;33m:\u001b[0m\u001b[1;33m\u001b[0m\u001b[1;33m\u001b[0m\u001b[0m\n\u001b[0;32m      7\u001b[0m     \u001b[0mprint\u001b[0m\u001b[1;33m(\u001b[0m\u001b[1;34mf'Parameter name: {param_name:42} value = {param.item()}'\u001b[0m\u001b[1;33m)\u001b[0m\u001b[1;33m\u001b[0m\u001b[1;33m\u001b[0m\u001b[0m\n",
      "\u001b[1;32m<ipython-input-127-26fe95fe247a>\u001b[0m in \u001b[0;36mtrain_plot\u001b[1;34m(Currkernel, xtrain, ytrain, xtest, meanY, std, noise, KernelStr, ytest)\u001b[0m\n\u001b[0;32m     71\u001b[0m     \u001b[0mlikelihood\u001b[0m\u001b[1;33m.\u001b[0m\u001b[0mnoise_covar\u001b[0m\u001b[1;33m.\u001b[0m\u001b[0mnoise\u001b[0m \u001b[1;33m=\u001b[0m\u001b[0mnoise\u001b[0m \u001b[1;31m# CovarNoise rescaled by std\u001b[0m\u001b[1;33m\u001b[0m\u001b[1;33m\u001b[0m\u001b[0m\n\u001b[0;32m     72\u001b[0m     \u001b[0mmodel\u001b[0m  \u001b[1;33m=\u001b[0m  \u001b[0mGPModel\u001b[0m\u001b[1;33m(\u001b[0m\u001b[0mxtrain\u001b[0m \u001b[1;33m,\u001b[0m \u001b[0mytrain\u001b[0m \u001b[1;33m,\u001b[0m \u001b[0mlikelihood\u001b[0m\u001b[1;33m,\u001b[0m \u001b[0mCurrkernel\u001b[0m\u001b[1;33m)\u001b[0m\u001b[1;33m\u001b[0m\u001b[1;33m\u001b[0m\u001b[0m\n\u001b[1;32m---> 73\u001b[1;33m     \u001b[0mtrain\u001b[0m\u001b[1;33m(\u001b[0m\u001b[0mmodel\u001b[0m\u001b[1;33m,\u001b[0m \u001b[0mlikelihood\u001b[0m\u001b[1;33m,\u001b[0m \u001b[0mxtrain\u001b[0m\u001b[1;33m,\u001b[0m \u001b[0mytrain\u001b[0m\u001b[1;33m)\u001b[0m\u001b[1;33m\u001b[0m\u001b[1;33m\u001b[0m\u001b[0m\n\u001b[0m\u001b[0;32m     74\u001b[0m     \u001b[0mstart\u001b[0m \u001b[1;33m=\u001b[0m \u001b[0mtime\u001b[0m\u001b[1;33m.\u001b[0m\u001b[0mtime\u001b[0m\u001b[1;33m(\u001b[0m\u001b[1;33m)\u001b[0m\u001b[1;33m\u001b[0m\u001b[1;33m\u001b[0m\u001b[0m\n\u001b[0;32m     75\u001b[0m     \u001b[0mf_preds\u001b[0m\u001b[1;33m=\u001b[0m \u001b[0mtest\u001b[0m\u001b[1;33m(\u001b[0m\u001b[0mmodel\u001b[0m\u001b[1;33m,\u001b[0m \u001b[0mlikelihood\u001b[0m\u001b[1;33m,\u001b[0m \u001b[0mxtest\u001b[0m\u001b[1;33m)\u001b[0m\u001b[1;33m\u001b[0m\u001b[1;33m\u001b[0m\u001b[0m\n",
      "\u001b[1;32m<ipython-input-127-26fe95fe247a>\u001b[0m in \u001b[0;36mtrain\u001b[1;34m(model, likelihood, train_x, train_y)\u001b[0m\n\u001b[0;32m     55\u001b[0m         \u001b[0moutput\u001b[0m \u001b[1;33m=\u001b[0m \u001b[0mmodel\u001b[0m\u001b[1;33m(\u001b[0m\u001b[0mtrain_x\u001b[0m\u001b[1;33m)\u001b[0m\u001b[1;33m\u001b[0m\u001b[1;33m\u001b[0m\u001b[0m\n\u001b[0;32m     56\u001b[0m         \u001b[1;31m# Calc loss and backprop gradients\u001b[0m\u001b[1;33m\u001b[0m\u001b[1;33m\u001b[0m\u001b[1;33m\u001b[0m\u001b[0m\n\u001b[1;32m---> 57\u001b[1;33m         \u001b[0mloss\u001b[0m \u001b[1;33m=\u001b[0m \u001b[1;33m-\u001b[0m\u001b[0mmll\u001b[0m\u001b[1;33m(\u001b[0m\u001b[0moutput\u001b[0m\u001b[1;33m,\u001b[0m \u001b[0mtrain_y\u001b[0m\u001b[1;33m)\u001b[0m\u001b[1;33m\u001b[0m\u001b[1;33m\u001b[0m\u001b[0m\n\u001b[0m\u001b[0;32m     58\u001b[0m         \u001b[0mloss\u001b[0m\u001b[1;33m.\u001b[0m\u001b[0mbackward\u001b[0m\u001b[1;33m(\u001b[0m\u001b[1;33m)\u001b[0m\u001b[1;33m\u001b[0m\u001b[1;33m\u001b[0m\u001b[0m\n\u001b[0;32m     59\u001b[0m         \u001b[0moptimizer\u001b[0m\u001b[1;33m.\u001b[0m\u001b[0mstep\u001b[0m\u001b[1;33m(\u001b[0m\u001b[1;33m)\u001b[0m\u001b[1;33m\u001b[0m\u001b[1;33m\u001b[0m\u001b[0m\n",
      "\u001b[1;32m~\\Anaconda3\\lib\\site-packages\\gpytorch\\module.py\u001b[0m in \u001b[0;36m__call__\u001b[1;34m(self, *inputs, **kwargs)\u001b[0m\n\u001b[0;32m     26\u001b[0m \u001b[1;33m\u001b[0m\u001b[0m\n\u001b[0;32m     27\u001b[0m     \u001b[1;32mdef\u001b[0m \u001b[0m__call__\u001b[0m\u001b[1;33m(\u001b[0m\u001b[0mself\u001b[0m\u001b[1;33m,\u001b[0m \u001b[1;33m*\u001b[0m\u001b[0minputs\u001b[0m\u001b[1;33m,\u001b[0m \u001b[1;33m**\u001b[0m\u001b[0mkwargs\u001b[0m\u001b[1;33m)\u001b[0m\u001b[1;33m:\u001b[0m\u001b[1;33m\u001b[0m\u001b[1;33m\u001b[0m\u001b[0m\n\u001b[1;32m---> 28\u001b[1;33m         \u001b[0moutputs\u001b[0m \u001b[1;33m=\u001b[0m \u001b[0mself\u001b[0m\u001b[1;33m.\u001b[0m\u001b[0mforward\u001b[0m\u001b[1;33m(\u001b[0m\u001b[1;33m*\u001b[0m\u001b[0minputs\u001b[0m\u001b[1;33m,\u001b[0m \u001b[1;33m**\u001b[0m\u001b[0mkwargs\u001b[0m\u001b[1;33m)\u001b[0m\u001b[1;33m\u001b[0m\u001b[1;33m\u001b[0m\u001b[0m\n\u001b[0m\u001b[0;32m     29\u001b[0m         \u001b[1;32mif\u001b[0m \u001b[0misinstance\u001b[0m\u001b[1;33m(\u001b[0m\u001b[0moutputs\u001b[0m\u001b[1;33m,\u001b[0m \u001b[0mlist\u001b[0m\u001b[1;33m)\u001b[0m\u001b[1;33m:\u001b[0m\u001b[1;33m\u001b[0m\u001b[1;33m\u001b[0m\u001b[0m\n\u001b[0;32m     30\u001b[0m             \u001b[1;32mreturn\u001b[0m \u001b[1;33m[\u001b[0m\u001b[0m_validate_module_outputs\u001b[0m\u001b[1;33m(\u001b[0m\u001b[0moutput\u001b[0m\u001b[1;33m)\u001b[0m \u001b[1;32mfor\u001b[0m \u001b[0moutput\u001b[0m \u001b[1;32min\u001b[0m \u001b[0moutputs\u001b[0m\u001b[1;33m]\u001b[0m\u001b[1;33m\u001b[0m\u001b[1;33m\u001b[0m\u001b[0m\n",
      "\u001b[1;32m~\\Anaconda3\\lib\\site-packages\\gpytorch\\mlls\\exact_marginal_log_likelihood.py\u001b[0m in \u001b[0;36mforward\u001b[1;34m(self, function_dist, target, *params)\u001b[0m\n\u001b[0;32m     49\u001b[0m         \u001b[1;31m# Get the log prob of the marginal distribution\u001b[0m\u001b[1;33m\u001b[0m\u001b[1;33m\u001b[0m\u001b[1;33m\u001b[0m\u001b[0m\n\u001b[0;32m     50\u001b[0m         \u001b[0moutput\u001b[0m \u001b[1;33m=\u001b[0m \u001b[0mself\u001b[0m\u001b[1;33m.\u001b[0m\u001b[0mlikelihood\u001b[0m\u001b[1;33m(\u001b[0m\u001b[0mfunction_dist\u001b[0m\u001b[1;33m,\u001b[0m \u001b[1;33m*\u001b[0m\u001b[0mparams\u001b[0m\u001b[1;33m)\u001b[0m\u001b[1;33m\u001b[0m\u001b[1;33m\u001b[0m\u001b[0m\n\u001b[1;32m---> 51\u001b[1;33m         \u001b[0mres\u001b[0m \u001b[1;33m=\u001b[0m \u001b[0moutput\u001b[0m\u001b[1;33m.\u001b[0m\u001b[0mlog_prob\u001b[0m\u001b[1;33m(\u001b[0m\u001b[0mtarget\u001b[0m\u001b[1;33m)\u001b[0m\u001b[1;33m\u001b[0m\u001b[1;33m\u001b[0m\u001b[0m\n\u001b[0m\u001b[0;32m     52\u001b[0m \u001b[1;33m\u001b[0m\u001b[0m\n\u001b[0;32m     53\u001b[0m         \u001b[1;31m# Add additional terms (SGPR / learned inducing points, heteroskedastic likelihood models)\u001b[0m\u001b[1;33m\u001b[0m\u001b[1;33m\u001b[0m\u001b[1;33m\u001b[0m\u001b[0m\n",
      "\u001b[1;32m~\\Anaconda3\\lib\\site-packages\\gpytorch\\distributions\\multivariate_normal.py\u001b[0m in \u001b[0;36mlog_prob\u001b[1;34m(self, value)\u001b[0m\n\u001b[0;32m    133\u001b[0m \u001b[1;33m\u001b[0m\u001b[0m\n\u001b[0;32m    134\u001b[0m         \u001b[1;31m# Get log determininat and first part of quadratic form\u001b[0m\u001b[1;33m\u001b[0m\u001b[1;33m\u001b[0m\u001b[1;33m\u001b[0m\u001b[0m\n\u001b[1;32m--> 135\u001b[1;33m         \u001b[0minv_quad\u001b[0m\u001b[1;33m,\u001b[0m \u001b[0mlogdet\u001b[0m \u001b[1;33m=\u001b[0m \u001b[0mcovar\u001b[0m\u001b[1;33m.\u001b[0m\u001b[0minv_quad_logdet\u001b[0m\u001b[1;33m(\u001b[0m\u001b[0minv_quad_rhs\u001b[0m\u001b[1;33m=\u001b[0m\u001b[0mdiff\u001b[0m\u001b[1;33m.\u001b[0m\u001b[0munsqueeze\u001b[0m\u001b[1;33m(\u001b[0m\u001b[1;33m-\u001b[0m\u001b[1;36m1\u001b[0m\u001b[1;33m)\u001b[0m\u001b[1;33m,\u001b[0m \u001b[0mlogdet\u001b[0m\u001b[1;33m=\u001b[0m\u001b[1;32mTrue\u001b[0m\u001b[1;33m)\u001b[0m\u001b[1;33m\u001b[0m\u001b[1;33m\u001b[0m\u001b[0m\n\u001b[0m\u001b[0;32m    136\u001b[0m \u001b[1;33m\u001b[0m\u001b[0m\n\u001b[0;32m    137\u001b[0m         \u001b[0mres\u001b[0m \u001b[1;33m=\u001b[0m \u001b[1;33m-\u001b[0m\u001b[1;36m0.5\u001b[0m \u001b[1;33m*\u001b[0m \u001b[0msum\u001b[0m\u001b[1;33m(\u001b[0m\u001b[1;33m[\u001b[0m\u001b[0minv_quad\u001b[0m\u001b[1;33m,\u001b[0m \u001b[0mlogdet\u001b[0m\u001b[1;33m,\u001b[0m \u001b[0mdiff\u001b[0m\u001b[1;33m.\u001b[0m\u001b[0msize\u001b[0m\u001b[1;33m(\u001b[0m\u001b[1;33m-\u001b[0m\u001b[1;36m1\u001b[0m\u001b[1;33m)\u001b[0m \u001b[1;33m*\u001b[0m \u001b[0mmath\u001b[0m\u001b[1;33m.\u001b[0m\u001b[0mlog\u001b[0m\u001b[1;33m(\u001b[0m\u001b[1;36m2\u001b[0m \u001b[1;33m*\u001b[0m \u001b[0mmath\u001b[0m\u001b[1;33m.\u001b[0m\u001b[0mpi\u001b[0m\u001b[1;33m)\u001b[0m\u001b[1;33m]\u001b[0m\u001b[1;33m)\u001b[0m\u001b[1;33m\u001b[0m\u001b[1;33m\u001b[0m\u001b[0m\n",
      "\u001b[1;32m~\\Anaconda3\\lib\\site-packages\\gpytorch\\lazy\\lazy_tensor.py\u001b[0m in \u001b[0;36minv_quad_logdet\u001b[1;34m(self, inv_quad_rhs, logdet, reduce_inv_quad)\u001b[0m\n\u001b[0;32m   1049\u001b[0m             \u001b[0mprobe_vectors\u001b[0m\u001b[1;33m,\u001b[0m\u001b[1;33m\u001b[0m\u001b[1;33m\u001b[0m\u001b[0m\n\u001b[0;32m   1050\u001b[0m             \u001b[0mprobe_vector_norms\u001b[0m\u001b[1;33m,\u001b[0m\u001b[1;33m\u001b[0m\u001b[1;33m\u001b[0m\u001b[0m\n\u001b[1;32m-> 1051\u001b[1;33m             \u001b[1;33m*\u001b[0m\u001b[0margs\u001b[0m\u001b[1;33m,\u001b[0m\u001b[1;33m\u001b[0m\u001b[1;33m\u001b[0m\u001b[0m\n\u001b[0m\u001b[0;32m   1052\u001b[0m         )\n\u001b[0;32m   1053\u001b[0m \u001b[1;33m\u001b[0m\u001b[0m\n",
      "\u001b[1;32m~\\Anaconda3\\lib\\site-packages\\gpytorch\\functions\\_inv_quad_log_det.py\u001b[0m in \u001b[0;36mforward\u001b[1;34m(ctx, representation_tree, dtype, device, matrix_shape, batch_shape, inv_quad, logdet, probe_vectors, probe_vector_norms, *args)\u001b[0m\n\u001b[0;32m    159\u001b[0m         \u001b[0mt_mat\u001b[0m \u001b[1;33m=\u001b[0m \u001b[1;32mNone\u001b[0m\u001b[1;33m\u001b[0m\u001b[1;33m\u001b[0m\u001b[0m\n\u001b[0;32m    160\u001b[0m         \u001b[1;32mif\u001b[0m \u001b[0mctx\u001b[0m\u001b[1;33m.\u001b[0m\u001b[0mlogdet\u001b[0m \u001b[1;32mand\u001b[0m \u001b[0msettings\u001b[0m\u001b[1;33m.\u001b[0m\u001b[0mskip_logdet_forward\u001b[0m\u001b[1;33m.\u001b[0m\u001b[0moff\u001b[0m\u001b[1;33m(\u001b[0m\u001b[1;33m)\u001b[0m\u001b[1;33m:\u001b[0m\u001b[1;33m\u001b[0m\u001b[1;33m\u001b[0m\u001b[0m\n\u001b[1;32m--> 161\u001b[1;33m             \u001b[0msolves\u001b[0m\u001b[1;33m,\u001b[0m \u001b[0mt_mat\u001b[0m \u001b[1;33m=\u001b[0m \u001b[0mlazy_tsr\u001b[0m\u001b[1;33m.\u001b[0m\u001b[0m_solve\u001b[0m\u001b[1;33m(\u001b[0m\u001b[0mrhs\u001b[0m\u001b[1;33m,\u001b[0m \u001b[0mpreconditioner\u001b[0m\u001b[1;33m,\u001b[0m \u001b[0mnum_tridiag\u001b[0m\u001b[1;33m=\u001b[0m\u001b[0mnum_random_probes\u001b[0m\u001b[1;33m)\u001b[0m\u001b[1;33m\u001b[0m\u001b[1;33m\u001b[0m\u001b[0m\n\u001b[0m\u001b[0;32m    162\u001b[0m \u001b[1;33m\u001b[0m\u001b[0m\n\u001b[0;32m    163\u001b[0m         \u001b[1;32melse\u001b[0m\u001b[1;33m:\u001b[0m\u001b[1;33m\u001b[0m\u001b[1;33m\u001b[0m\u001b[0m\n",
      "\u001b[1;32m~\\Anaconda3\\lib\\site-packages\\gpytorch\\lazy\\lazy_tensor.py\u001b[0m in \u001b[0;36m_solve\u001b[1;34m(self, rhs, preconditioner, num_tridiag)\u001b[0m\n\u001b[0;32m    648\u001b[0m             \u001b[0mmax_iter\u001b[0m\u001b[1;33m=\u001b[0m\u001b[0msettings\u001b[0m\u001b[1;33m.\u001b[0m\u001b[0mmax_cg_iterations\u001b[0m\u001b[1;33m.\u001b[0m\u001b[0mvalue\u001b[0m\u001b[1;33m(\u001b[0m\u001b[1;33m)\u001b[0m\u001b[1;33m,\u001b[0m\u001b[1;33m\u001b[0m\u001b[1;33m\u001b[0m\u001b[0m\n\u001b[0;32m    649\u001b[0m             \u001b[0mmax_tridiag_iter\u001b[0m\u001b[1;33m=\u001b[0m\u001b[0msettings\u001b[0m\u001b[1;33m.\u001b[0m\u001b[0mmax_lanczos_quadrature_iterations\u001b[0m\u001b[1;33m.\u001b[0m\u001b[0mvalue\u001b[0m\u001b[1;33m(\u001b[0m\u001b[1;33m)\u001b[0m\u001b[1;33m,\u001b[0m\u001b[1;33m\u001b[0m\u001b[1;33m\u001b[0m\u001b[0m\n\u001b[1;32m--> 650\u001b[1;33m             \u001b[0mpreconditioner\u001b[0m\u001b[1;33m=\u001b[0m\u001b[0mpreconditioner\u001b[0m\u001b[1;33m,\u001b[0m\u001b[1;33m\u001b[0m\u001b[1;33m\u001b[0m\u001b[0m\n\u001b[0m\u001b[0;32m    651\u001b[0m         )\n\u001b[0;32m    652\u001b[0m \u001b[1;33m\u001b[0m\u001b[0m\n",
      "\u001b[1;32m~\\Anaconda3\\lib\\site-packages\\gpytorch\\utils\\linear_cg.py\u001b[0m in \u001b[0;36mlinear_cg\u001b[1;34m(matmul_closure, rhs, n_tridiag, tolerance, eps, stop_updating_after, max_iter, max_tridiag_iter, initial_guess, preconditioner)\u001b[0m\n\u001b[0;32m    223\u001b[0m         \u001b[1;31m# Get next alpha\u001b[0m\u001b[1;33m\u001b[0m\u001b[1;33m\u001b[0m\u001b[1;33m\u001b[0m\u001b[0m\n\u001b[0;32m    224\u001b[0m         \u001b[1;31m# alpha_{k} = (residual_{k-1}^T precon_residual{k-1}) / (p_vec_{k-1}^T mat p_vec_{k-1})\u001b[0m\u001b[1;33m\u001b[0m\u001b[1;33m\u001b[0m\u001b[1;33m\u001b[0m\u001b[0m\n\u001b[1;32m--> 225\u001b[1;33m         \u001b[0mmvms\u001b[0m \u001b[1;33m=\u001b[0m \u001b[0mmatmul_closure\u001b[0m\u001b[1;33m(\u001b[0m\u001b[0mcurr_conjugate_vec\u001b[0m\u001b[1;33m)\u001b[0m\u001b[1;33m\u001b[0m\u001b[1;33m\u001b[0m\u001b[0m\n\u001b[0m\u001b[0;32m    226\u001b[0m         \u001b[1;32mif\u001b[0m \u001b[0mprecond\u001b[0m\u001b[1;33m:\u001b[0m\u001b[1;33m\u001b[0m\u001b[1;33m\u001b[0m\u001b[0m\n\u001b[0;32m    227\u001b[0m             \u001b[0mtorch\u001b[0m\u001b[1;33m.\u001b[0m\u001b[0mmul\u001b[0m\u001b[1;33m(\u001b[0m\u001b[0mcurr_conjugate_vec\u001b[0m\u001b[1;33m,\u001b[0m \u001b[0mmvms\u001b[0m\u001b[1;33m,\u001b[0m \u001b[0mout\u001b[0m\u001b[1;33m=\u001b[0m\u001b[0mmul_storage\u001b[0m\u001b[1;33m)\u001b[0m\u001b[1;33m\u001b[0m\u001b[1;33m\u001b[0m\u001b[0m\n",
      "\u001b[1;32m~\\Anaconda3\\lib\\site-packages\\gpytorch\\lazy\\added_diag_lazy_tensor.py\u001b[0m in \u001b[0;36m_matmul\u001b[1;34m(self, rhs)\u001b[0m\n\u001b[0;32m     51\u001b[0m \u001b[1;33m\u001b[0m\u001b[0m\n\u001b[0;32m     52\u001b[0m     \u001b[1;32mdef\u001b[0m \u001b[0m_matmul\u001b[0m\u001b[1;33m(\u001b[0m\u001b[0mself\u001b[0m\u001b[1;33m,\u001b[0m \u001b[0mrhs\u001b[0m\u001b[1;33m)\u001b[0m\u001b[1;33m:\u001b[0m\u001b[1;33m\u001b[0m\u001b[1;33m\u001b[0m\u001b[0m\n\u001b[1;32m---> 53\u001b[1;33m         \u001b[1;32mreturn\u001b[0m \u001b[0mtorch\u001b[0m\u001b[1;33m.\u001b[0m\u001b[0maddcmul\u001b[0m\u001b[1;33m(\u001b[0m\u001b[0mself\u001b[0m\u001b[1;33m.\u001b[0m\u001b[0m_lazy_tensor\u001b[0m\u001b[1;33m.\u001b[0m\u001b[0m_matmul\u001b[0m\u001b[1;33m(\u001b[0m\u001b[0mrhs\u001b[0m\u001b[1;33m)\u001b[0m\u001b[1;33m,\u001b[0m \u001b[0mself\u001b[0m\u001b[1;33m.\u001b[0m\u001b[0m_diag_tensor\u001b[0m\u001b[1;33m.\u001b[0m\u001b[0m_diag\u001b[0m\u001b[1;33m.\u001b[0m\u001b[0munsqueeze\u001b[0m\u001b[1;33m(\u001b[0m\u001b[1;33m-\u001b[0m\u001b[1;36m1\u001b[0m\u001b[1;33m)\u001b[0m\u001b[1;33m,\u001b[0m \u001b[0mrhs\u001b[0m\u001b[1;33m)\u001b[0m\u001b[1;33m\u001b[0m\u001b[1;33m\u001b[0m\u001b[0m\n\u001b[0m\u001b[0;32m     54\u001b[0m \u001b[1;33m\u001b[0m\u001b[0m\n\u001b[0;32m     55\u001b[0m     \u001b[1;32mdef\u001b[0m \u001b[0madd_diag\u001b[0m\u001b[1;33m(\u001b[0m\u001b[0mself\u001b[0m\u001b[1;33m,\u001b[0m \u001b[0madded_diag\u001b[0m\u001b[1;33m)\u001b[0m\u001b[1;33m:\u001b[0m\u001b[1;33m\u001b[0m\u001b[1;33m\u001b[0m\u001b[0m\n",
      "\u001b[1;32m~\\Anaconda3\\lib\\site-packages\\gpytorch\\lazy\\non_lazy_tensor.py\u001b[0m in \u001b[0;36m_matmul\u001b[1;34m(self, rhs)\u001b[0m\n\u001b[0;32m     39\u001b[0m \u001b[1;33m\u001b[0m\u001b[0m\n\u001b[0;32m     40\u001b[0m     \u001b[1;32mdef\u001b[0m \u001b[0m_matmul\u001b[0m\u001b[1;33m(\u001b[0m\u001b[0mself\u001b[0m\u001b[1;33m,\u001b[0m \u001b[0mrhs\u001b[0m\u001b[1;33m)\u001b[0m\u001b[1;33m:\u001b[0m\u001b[1;33m\u001b[0m\u001b[1;33m\u001b[0m\u001b[0m\n\u001b[1;32m---> 41\u001b[1;33m         \u001b[1;32mreturn\u001b[0m \u001b[0mtorch\u001b[0m\u001b[1;33m.\u001b[0m\u001b[0mmatmul\u001b[0m\u001b[1;33m(\u001b[0m\u001b[0mself\u001b[0m\u001b[1;33m.\u001b[0m\u001b[0mtensor\u001b[0m\u001b[1;33m,\u001b[0m \u001b[0mrhs\u001b[0m\u001b[1;33m)\u001b[0m\u001b[1;33m\u001b[0m\u001b[1;33m\u001b[0m\u001b[0m\n\u001b[0m\u001b[0;32m     42\u001b[0m \u001b[1;33m\u001b[0m\u001b[0m\n\u001b[0;32m     43\u001b[0m     \u001b[1;32mdef\u001b[0m \u001b[0m_prod_batch\u001b[0m\u001b[1;33m(\u001b[0m\u001b[0mself\u001b[0m\u001b[1;33m,\u001b[0m \u001b[0mdim\u001b[0m\u001b[1;33m)\u001b[0m\u001b[1;33m:\u001b[0m\u001b[1;33m\u001b[0m\u001b[1;33m\u001b[0m\u001b[0m\n",
      "\u001b[1;31mKeyboardInterrupt\u001b[0m: "
     ]
    },
    {
     "data": {
      "text/plain": [
       "<Figure size 432x288 with 0 Axes>"
      ]
     },
     "metadata": {},
     "output_type": "display_data"
    }
   ],
   "source": [
    "Currkernel = gpytorch.kernels.RBFKernel()\n",
    "#Currkernel.outputscale = 1;\n",
    "Currkernel.lengthscale = 0.1;\n",
    "plt.figure()\n",
    "model = train_plot(Currkernel,xtrain,ytrain,xtrain,meanY,std,10, \"RBF\")\n",
    "for param_name, param in model.named_parameters():\n",
    "    print(f'Parameter name: {param_name:42} value = {param.item()}')"
   ]
  },
  {
   "cell_type": "code",
   "execution_count": 12,
   "id": "dimensional-story",
   "metadata": {},
   "outputs": [
    {
     "ename": "AttributeError",
     "evalue": "'KalmanFilter' object has no attribute 'covar_module'",
     "output_type": "error",
     "traceback": [
      "\u001b[1;31m---------------------------------------------------------------------------\u001b[0m",
      "\u001b[1;31mAttributeError\u001b[0m                            Traceback (most recent call last)",
      "\u001b[1;32m<ipython-input-12-61171c3e1623>\u001b[0m in \u001b[0;36m<module>\u001b[1;34m\u001b[0m\n\u001b[1;32m----> 1\u001b[1;33m \u001b[0mconstraint\u001b[0m \u001b[1;33m=\u001b[0m \u001b[0mmodel\u001b[0m\u001b[1;33m.\u001b[0m\u001b[0mcovar_module\u001b[0m\u001b[1;33m.\u001b[0m\u001b[0mraw_lengthscale_constraint\u001b[0m\u001b[1;33m\u001b[0m\u001b[1;33m\u001b[0m\u001b[0m\n\u001b[0m\u001b[0;32m      2\u001b[0m \u001b[0mprint\u001b[0m\u001b[1;33m(\u001b[0m\u001b[0mconstraint\u001b[0m\u001b[1;33m.\u001b[0m\u001b[0mtransform\u001b[0m\u001b[1;33m(\u001b[0m\u001b[0mmodel\u001b[0m\u001b[1;33m.\u001b[0m\u001b[0mcovar_module\u001b[0m\u001b[1;33m.\u001b[0m\u001b[0mraw_lengthscale\u001b[0m\u001b[1;33m)\u001b[0m\u001b[1;33m)\u001b[0m\u001b[1;33m\u001b[0m\u001b[1;33m\u001b[0m\u001b[0m\n\u001b[0;32m      3\u001b[0m \u001b[0mprint\u001b[0m\u001b[1;33m(\u001b[0m\u001b[0mconstraint\u001b[0m\u001b[1;33m.\u001b[0m\u001b[0mtransform\u001b[0m\u001b[1;33m(\u001b[0m\u001b[0mmodel\u001b[0m\u001b[1;33m.\u001b[0m\u001b[0mlikelihood\u001b[0m\u001b[1;33m.\u001b[0m\u001b[0mnoise_covar\u001b[0m\u001b[1;33m.\u001b[0m\u001b[0mraw_noise\u001b[0m\u001b[1;33m)\u001b[0m\u001b[1;33m)\u001b[0m\u001b[1;33m\u001b[0m\u001b[1;33m\u001b[0m\u001b[0m\n",
      "\u001b[1;31mAttributeError\u001b[0m: 'KalmanFilter' object has no attribute 'covar_module'"
     ]
    }
   ],
   "source": [
    "constraint = model.covar_module.raw_lengthscale_constraint\n",
    "print(constraint.transform(model.covar_module.raw_lengthscale))\n",
    "print(constraint.transform(model.likelihood.noise_covar.raw_noise))\n"
   ]
  },
  {
   "cell_type": "markdown",
   "id": "binding-heath",
   "metadata": {},
   "source": [
    "# PLOT FUNCTION"
   ]
  },
  {
   "cell_type": "code",
   "execution_count": 25,
   "id": "awful-liquid",
   "metadata": {},
   "outputs": [],
   "source": [
    "def plotSSM(test_x, preds, lower, upper,  xtrain, ytrain):\n",
    "    fig = plt.figure()\n",
    "    # Get upper and lower confidence bounds\n",
    "    # Plot training data as black stars\n",
    "    plt.plot(xtrain, ytrain, 'k*')\n",
    "    # Plot predictive means as blue line\n",
    "    plt.plot(test_x, preds, 'b')\n",
    "    # Shade between the lower and upper confidence bounds\n",
    "    plt.fill_between(test_x, lower,\n",
    "                       upper, alpha=0.5)\n",
    "    plt.legend(['Observed Data', 'Mean', 'Confidence'])\n",
    "    #plt.xlim(0,120)\n",
    "    #plt.ylim(50,450)"
   ]
  },
  {
   "cell_type": "markdown",
   "id": "protective-subsection",
   "metadata": {},
   "source": [
    "# Create the State Space Model"
   ]
  },
  {
   "cell_type": "code",
   "execution_count": 30,
   "id": "wound-divorce",
   "metadata": {},
   "outputs": [],
   "source": [
    "noise_variance = 0.0315 #LEARN HYPERPARAMETERS LATER \n",
    "lengthscale = 0.2841\n",
    "variance =0.0368\n",
    "\n",
    "order = 6  # Order of the RBF approximation for (P)SSGP, will not be used if the GP model is GPR1515\n",
    "balancing_iter = 5  # Number of balancing steps for the resulting SDE to make it more stable, will not be used if the GP model is GPR\n",
    "cov = RBF(variance=variance, lengthscales=lengthscale, order=order, balancing_iter=balancing_iter)"
   ]
  },
  {
   "cell_type": "code",
   "execution_count": 31,
   "id": "split-exclusion",
   "metadata": {},
   "outputs": [
    {
     "name": "stdout",
     "output_type": "stream",
     "text": [
      "tf.Tensor([[3.32451997]], shape=(1, 1), dtype=float64)\n"
     ]
    }
   ],
   "source": [
    "discrete_model = cov.get_sde()\n",
    "print(discrete_model[4]*15)"
   ]
  },
  {
   "cell_type": "code",
   "execution_count": 16,
   "id": "monetary-antenna",
   "metadata": {},
   "outputs": [
    {
     "data": {
      "image/png": "[encoded data removed]",
      "text/plain": [
       "<Figure size 432x288 with 1 Axes>"
      ]
     },
     "metadata": {
      "needs_background": "light"
     },
     "output_type": "display_data"
    }
   ],
   "source": [
    "discrete_model = cov.get_sde()\n",
    "P_inf = discrete_model[0].numpy();\n",
    "F = discrete_model[1].numpy();\n",
    "L = discrete_model[2].numpy();\n",
    "H = discrete_model[3].numpy();\n",
    "Q = discrete_model[4].numpy()*15; \n",
    "\n",
    "class KalmanFilter:\n",
    "    def __init__(self,A,B,C,Q,R):\n",
    "        self.A = A\n",
    "        self.B = B\n",
    "        self.C = C\n",
    "        self.Q = Q\n",
    "        self.R = 0.0315\n",
    "        self.const = np.zeros((order*2,order))\n",
    "        self.const[order:order*2,:] = np.identity(order)\n",
    "        \n",
    "    def calc_Qs(self,dt):\n",
    "        Qs = np.zeros((order*2,order*2))\n",
    "        Qs[:order,:order]=self.A\n",
    "        Qs[order:order*2,order:order*2]=-self.A.T\n",
    "        Qs[:order,order:order*2]=np.matmul(self.B,self.B.T)*self.Q\n",
    "        Qs = expm(Qs*dt)\n",
    "        Qs = np.matmul(Qs[:order,order:order*2],(expm(self.A*dt).T));\n",
    "        return Qs\n",
    "    \n",
    "    def predict(self,xt,covar,dt):\n",
    "        #xt_1 = np.matmul(self.A,xt)*dt+xt\n",
    "        A_now = expm(self.A*dt)\n",
    "        xt_1 = np.matmul(A_now,xt)\n",
    "        #diff = xt_1- np.matmul(self.A,xt)*dt-xt\n",
    "        covar_t1 = np.matmul(np.matmul(A_now,covar),A_now.T)+self.calc_Qs(dt)\n",
    "        covar_t1 = (covar_t1+covar_t1.T)*0.5;\n",
    "        return xt_1,covar_t1\n",
    "    def update(self,zt,xt,covar):\n",
    "        S = np.matmul(np.matmul(self.C,covar),self.C.T)+self.R\n",
    "        Kt = np.matmul(covar,self.C.T)/S[0,0]\n",
    "        covar_t1 = covar - np.matmul(Kt,Kt.T)*S[0,0]\n",
    "        xt_1 = xt+Kt*(zt-np.matmul(self.C,xt))\n",
    "        return xt_1,covar_t1\n",
    "    \n",
    "model = KalmanFilter(F,L,H,Q,variance)\n",
    "xtrain_kal = xtrain.numpy()\n",
    "length = xtrain_kal.shape[0]\n",
    "xt = np.zeros((order,1))\n",
    "xt[0,0] =  ytrain[0]\n",
    "covar = P_inf;\n",
    "y_predict = np.zeros(length)\n",
    "x_interpol = np.zeros(length*10)\n",
    "low_interpol = np.zeros(length*10)\n",
    "y_interpol = np.zeros(length*10)\n",
    "high_interpol = np.zeros(length*10)\n",
    "y_predict[0] = xt[0]\n",
    "t=xtrain_kal[0]\n",
    "count =0\n",
    "for i in range(1,length):\n",
    "    dt = xtrain_kal[i]-xtrain_kal[i-1]\n",
    "    if(dt<0):\n",
    "        print(dt)\n",
    "    t+=dt\n",
    "    xt_p,covar_p = model.predict(xt,covar,dt)\n",
    "    xt,covar = model.update(ytrain[i].numpy(),xt_p,covar_p)    \n",
    "    y_predict[i] = xt_p[0]    \n",
    "    for j in range(1,5):\n",
    "        x_interpol[count]=t+dt*j/5\n",
    "        xt,covar = model.predict(xt,covar,dt/5)\n",
    "        y_interpol[count] = xt[0]\n",
    "        low_interpol[count] = xt[0]-covar[0,0]/2\n",
    "        high_interpol[count] = xt[0]+covar[0,0]/2\n",
    "        count = count +1\n",
    "#idx2 = np.argsort(x_interpol)\n",
    "#x_interpol = x_interpol[idx2]\n",
    "#y_interpol_p = y_interpol_p[idx2]\n",
    "#low_interpol_p = low_interpol_p[idx2]\n",
    "#high_interpol_p = high_interpol_p[idx2]\n",
    "y_predict_p = y_predict*std+meanY\n",
    "ytrain_p= ytrain*std+meanY\n",
    "y_interpol_p = y_interpol*std+meanY\n",
    "low_interpol_p = low_interpol*std+meanY\n",
    "high_interpol_p = high_interpol*std+meanY\n",
    "plotSSM(x_interpol[:count], y_interpol_p[:count], low_interpol_p[:count], high_interpol_p[:count],  xtrain, ytrain_p)"
   ]
  },
  {
   "cell_type": "code",
   "execution_count": 22,
   "id": "ethical-dover",
   "metadata": {},
   "outputs": [
    {
     "name": "stdout",
     "output_type": "stream",
     "text": [
      "[[-7.56077310e+12  1.77823008e+13 -1.85120490e+13  1.02713441e+13\n",
      "  -3.08469034e+12  4.90437570e+11]\n",
      " [ 1.77823008e+13 -4.18932877e+13  4.36920879e+13 -2.42903789e+13\n",
      "   7.31080353e+12 -1.16524756e+12]\n",
      " [-1.85120490e+13  4.36920879e+13 -4.56580752e+13  2.54379058e+13\n",
      "  -7.67438047e+12  1.22652780e+12]\n",
      " [ 1.02713441e+13 -2.42903789e+13  2.54379058e+13 -1.42057383e+13\n",
      "   4.29691328e+12 -6.88794520e+11]\n",
      " [-3.08469034e+12  7.31080353e+12 -7.67438047e+12  4.29691328e+12\n",
      "  -1.30349355e+12  2.09649060e+11]\n",
      " [ 4.90437570e+11 -1.16524756e+12  1.22652780e+12 -6.88794520e+11\n",
      "   2.09649060e+11 -3.38494852e+10]]\n"
     ]
    }
   ],
   "source": [
    "print(model.calc_Qs(-1))"
   ]
  },
  {
   "cell_type": "code",
   "execution_count": 17,
   "id": "foster-match",
   "metadata": {},
   "outputs": [],
   "source": [
    "discrete_model = cov.get_sde()\n",
    "P_inf = discrete_model[0].numpy().flatten().tolist();\n",
    "F = discrete_model[1].numpy().flatten().tolist();\n",
    "L = discrete_model[2].numpy().flatten().tolist();\n",
    "H = discrete_model[3].numpy().flatten().tolist();\n",
    "Q = (discrete_model[4].numpy()*15).flatten().tolist(); \n",
    "xtrain_yaml = xtrain.numpy().flatten().tolist(); \n",
    "ytrain_yaml = ytrain.numpy().flatten().tolist(); \n",
    "meanY_yaml = meanY.tolist();\n",
    "std_yaml = std.tolist();\n",
    "dict_file = [{'Order' : order},{'P_inf' : P_inf},{'F' : F},{'L' : L},{'H' : H},{'Q' : Q},{'xtrain' : xtrain_yaml},{'ytrain' : ytrain_yaml},{'meanY' : meanY_yaml},{'std':std_yaml}]\n",
    "\n",
    "with open('model_params.yaml', 'w') as file:\n",
    "    documents = yaml.dump(dict_file, file)"
   ]
  },
  {
   "cell_type": "markdown",
   "id": "simple-solid",
   "metadata": {},
   "source": [
    "# Check the Local Approximation "
   ]
  },
  {
   "cell_type": "code",
   "execution_count": 116,
   "id": "cognitive-property",
   "metadata": {},
   "outputs": [
    {
     "data": {
      "image/png": "[encoded data removed]",
      "text/plain": [
       "<Figure size 432x288 with 1 Axes>"
      ]
     },
     "metadata": {
      "needs_background": "light"
     },
     "output_type": "display_data"
    },
    {
     "data": {
      "text/plain": [
       "<Figure size 432x288 with 0 Axes>"
      ]
     },
     "metadata": {},
     "output_type": "display_data"
    }
   ],
   "source": [
    "plt.plot(xtrain, ytrain*std+meanY, 'k*')\n",
    "plt.plot(x_interpol[:count], y_interpol_p[:count])\n",
    "t_test = 0.4\n",
    "i=0\n",
    "t=xtrain_kal[0];\n",
    "extraSamples = 15;\n",
    "x_dropoff = np.zeros(extraSamples*2);\n",
    "y_dropoff = np.zeros(extraSamples*2);\n",
    "while xtrain_kal[i] < t_test:\n",
    "    dt = xtrain_kal[i+1]- xtrain_kal[i]\n",
    "    t+=dt\n",
    "    xt_p,covar_p = model.predict(xt,covar,dt)\n",
    "    xt,covar = model.update(ytrain[i].numpy(),xt_p,covar_p)\n",
    "    i+=1\n",
    "xt_p=xt\n",
    "dt = 0.01\n",
    "covar_p = covar;\n",
    "plt.plot(t_test,xt[0]*std+meanY,'ro')\n",
    "t_lead = t\n",
    "for i in range(extraSamples):\n",
    "    x_dropoff[extraSamples-i-1]=t_lead\n",
    "    xt_p,covar_p = model.predict(xt_p,covar_p,-1*dt)\n",
    "    #print(xt_p)\n",
    "    y_dropoff[extraSamples-i-1]=xt_p[0]\n",
    "    t_lead-=dt;\n",
    "xt_p=xt\n",
    "covar_p = covar;\n",
    "t_lead = t\n",
    "for i in range(extraSamples):\n",
    "    x_dropoff[i+extraSamples]=t_lead\n",
    "    xt_p,covar_p = model.predict(xt_p,covar_p,dt)\n",
    "    #print(xt_p)\n",
    "    y_dropoff[i+extraSamples]=xt_p[0]\n",
    "    t_lead+=dt;\n",
    "plt.plot(x_dropoff,y_dropoff*std+meanY)\n",
    "plt.legend(['GP prediction', 'True Data','Current State','State Space Approximation'])\n",
    "\n",
    "plt.figure();\n"
   ]
  },
  {
   "cell_type": "code",
   "execution_count": null,
   "id": "committed-minutes",
   "metadata": {},
   "outputs": [],
   "source": []
  },
  {
   "cell_type": "markdown",
   "id": "aging-connecticut",
   "metadata": {},
   "source": [
    "# Convert Parameters to YAML file"
   ]
  },
  {
   "cell_type": "code",
   "execution_count": 13,
   "id": "external-brave",
   "metadata": {},
   "outputs": [],
   "source": []
  },
  {
   "cell_type": "code",
   "execution_count": null,
   "id": "transparent-northeast",
   "metadata": {},
   "outputs": [],
   "source": []
  },
  {
   "cell_type": "code",
   "execution_count": null,
   "id": "vocal-collector",
   "metadata": {},
   "outputs": [],
   "source": []
  },
  {
   "cell_type": "code",
   "execution_count": null,
   "id": "systematic-course",
   "metadata": {},
   "outputs": [],
   "source": []
  },
  {
   "cell_type": "code",
   "execution_count": null,
   "id": "parallel-arizona",
   "metadata": {},
   "outputs": [],
   "source": []
  }
 ],
 "metadata": {
  "kernelspec": {
   "display_name": "Python 3",
   "language": "python",
   "name": "python3"
  },
  "language_info": {
   "codemirror_mode": {
    "name": "ipython",
    "version": 3
   },
   "file_extension": ".py",
   "mimetype": "text/x-python",
   "name": "python",
   "nbconvert_exporter": "python",
   "pygments_lexer": "ipython3",
   "version": "3.7.10"
  }
 },
 "nbformat": 4,
 "nbformat_minor": 5
}
